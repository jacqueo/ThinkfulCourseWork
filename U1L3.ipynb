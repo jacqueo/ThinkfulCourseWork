{
 "cells": [
  {
   "cell_type": "markdown",
   "metadata": {},
   "source": [
    "### Getting Familiar with SQLite"
   ]
  },
  {
   "cell_type": "code",
   "execution_count": 3,
   "metadata": {
    "collapsed": false
   },
   "outputs": [
    {
     "data": {
      "text/plain": [
       "'https://www.sqlite.org/lang.html'"
      ]
     },
     "execution_count": 3,
     "metadata": {},
     "output_type": "execute_result"
    }
   ],
   "source": [
    "# Helpful link to SQLite\n",
    "'https://www.sqlite.org/lang.html'"
   ]
  },
  {
   "cell_type": "code",
   "execution_count": 4,
   "metadata": {
    "collapsed": true
   },
   "outputs": [],
   "source": [
    "# SQL commands start with '.'\n",
    "# (i.e. '.tables', '.indicies', '.schema')"
   ]
  },
  {
   "cell_type": "code",
   "execution_count": 8,
   "metadata": {
    "collapsed": false
   },
   "outputs": [
    {
     "name": "stdout",
     "output_type": "stream",
     "text": [
      "SELECT COUNT(*) FROM cities WHERE name LIKE 'San%' AND state='CA';\n",
      "Output: 1\n"
     ]
    }
   ],
   "source": [
    "# Example code that uses all tricks\n",
    "print(\"SELECT COUNT(*) FROM cities WHERE name LIKE 'San%' AND state='CA';\")\n",
    "print('Output: 1')"
   ]
  },
  {
   "cell_type": "code",
   "execution_count": 10,
   "metadata": {
    "collapsed": false
   },
   "outputs": [],
   "source": [
    "# To export a datatable in Sqlite into a CSV file...\n",
    "\n",
    "# > .mode csv\n",
    "# > .headers on\n",
    "# > .output cities.csv\n",
    "# > select * from cities;\n",
    "# > .output stdout\n"
   ]
  },
  {
   "cell_type": "code",
   "execution_count": 11,
   "metadata": {
    "collapsed": false
   },
   "outputs": [
    {
     "name": "stdout",
     "output_type": "stream",
     "text": [
      "First you switch the output mode to CSV, and turn the column headers on. You then tell SQLite to output any statements to the cities.csv file using the .output command. Next you make the query to select all of the rows from the cities table. Then finally the output back is redirected back to the command line.\n"
     ]
    }
   ],
   "source": [
    "print('First you switch the output mode to CSV, and turn the column headers on. You then tell SQLite to output any statements to the cities.csv file using the .output command. Next you make the query to select all of the rows from the cities table. Then finally the output back is redirected back to the command line.')"
   ]
  },
  {
   "cell_type": "markdown",
   "metadata": {
    "collapsed": true
   },
   "source": [
    "### Importing Data to SQLite using Python"
   ]
  },
  {
   "cell_type": "code",
   "execution_count": 2,
   "metadata": {
    "collapsed": false
   },
   "outputs": [
    {
     "data": {
      "text/plain": [
       "'https://pypi.python.org/pypi/pysqlite'"
      ]
     },
     "execution_count": 2,
     "metadata": {},
     "output_type": "execute_result"
    }
   ],
   "source": [
    "# Installing pysqlite\n",
    "'https://pypi.python.org/pypi/pysqlite'"
   ]
  },
  {
   "cell_type": "code",
   "execution_count": 8,
   "metadata": {
    "collapsed": false
   },
   "outputs": [
    {
     "name": "stdout",
     "output_type": "stream",
     "text": [
      "SQLite version 3.13.0\n"
     ]
    }
   ],
   "source": [
    "# The sqlite3 module is used to work with the SQLite database.\n",
    "import sqlite3 as lite\n",
    "\n",
    "# Here you connect to the database. The `connect()` method returns a connection object.\n",
    "con = lite.connect('getting_started.db')\n",
    "\n",
    "with con:\n",
    "    # From the connection, you get a cursor object. The cursor is what goes over the records that result from a query.\n",
    "    cur = con.cursor()\n",
    "    cur.execute('SELECT SQLITE_VERSION()')\n",
    "    # You're fetching the data from the cursor object. Because you're only fetching one record, you'll use the `fetchone()` method. If fetching more than one record, use the `fetchall()` method.\n",
    "    data = cur.fetchone()\n",
    "    #Finally, print the result.\n",
    "    print('SQLite version %s' % data)"
   ]
  },
  {
   "cell_type": "code",
   "execution_count": 3,
   "metadata": {
    "collapsed": false
   },
   "outputs": [],
   "source": [
    "import sqlite3 as lite\n",
    "\n",
    "con = lite.connect('getting_started.db')\n",
    "\n",
    "with con:\n",
    "    \n",
    "    cur = con.cursor()\n",
    "    cur.execute(\"INSERT INTO cities VALUES('Washington', 'DC')\")\n",
    "    cur.execute(\"INSERT INTO cities VALUES('Houston', 'TX')\")\n",
    "    cur.execute(\"INSERT INTO weather VALUES('Washington', 2013, 'July', 'January', 68 )\")\n",
    "    cur.execute(\"INSERT INTO weather VALUES('Houston', 2013, 'July', 'January', 91)\")"
   ]
  },
  {
   "cell_type": "code",
   "execution_count": 5,
   "metadata": {
    "collapsed": false
   },
   "outputs": [],
   "source": [
    "# executemany()\n",
    "\n",
    "import sqlite3 as lite\n",
    "\n",
    "cities = (('Las Vegas', 'NV'), ('Atlanta', 'GA'))\n",
    "weather = (('Las Vegas', 2013, 'July', 'December', 95), \n",
    "               ('Atlanta', 2013, 'July', 'January', 80))\n",
    "\n",
    "con = lite.connect('getting_started.db')\n",
    "\n",
    "with con:\n",
    "    cur = con.cursor()\n",
    "    cur.executemany(\"INSERT INTO cities VALUES(?,?)\", cities)\n",
    "    cur.executemany(\"INSERT INTO weather VALUES(?,?,?,?,?)\", weather)"
   ]
  },
  {
   "cell_type": "markdown",
   "metadata": {},
   "source": [
    "### Retrieving Data"
   ]
  },
  {
   "cell_type": "code",
   "execution_count": 7,
   "metadata": {
    "collapsed": false
   },
   "outputs": [
    {
     "name": "stdout",
     "output_type": "stream",
     "text": [
      "('New York City', 'NY')\n",
      "('Boston', 'MA')\n",
      "('Chicago', 'IL')\n",
      "('Miami', 'FL')\n",
      "('Dallas', 'TX')\n",
      "('Seattle', 'WA')\n",
      "('Portland', 'OR')\n",
      "('San Francisco', 'CA')\n",
      "('Los Angeles', 'CA')\n",
      "('Washington', 'DC')\n",
      "('Houston', 'TX')\n",
      "('Washington', 'DC')\n",
      "('Houston', 'TX')\n",
      "('Las Vegas', 'NV')\n",
      "('Atlanta', 'GA')\n"
     ]
    }
   ],
   "source": [
    "import sqlite3 as lite\n",
    "\n",
    "con = lite.connect('getting_started.db')\n",
    "with con:\n",
    "    \n",
    "    cur = con.cursor() #first step, always\n",
    "    cur.execute(\"SELECT * FROM cities\")\n",
    "    \n",
    "    rows = cur.fetchall()\n",
    "    \n",
    "    for row in rows:\n",
    "        print(row)"
   ]
  },
  {
   "cell_type": "code",
   "execution_count": 10,
   "metadata": {
    "collapsed": false
   },
   "outputs": [
    {
     "name": "stdout",
     "output_type": "stream",
     "text": [
      "               0   1\n",
      "0  New York City  NY\n",
      "1         Boston  MA\n",
      "2        Chicago  IL\n",
      "3          Miami  FL\n",
      "4         Dallas  TX\n",
      "(('name', None, None, None, None, None, None), ('state', None, None, None, None, None, None))\n"
     ]
    }
   ],
   "source": [
    "# now with pandas\n",
    "\n",
    "import sqlite3 as lite\n",
    "import pandas as pd\n",
    "\n",
    "con = lite.connect('getting_started.db')\n",
    "with con:\n",
    "    \n",
    "    cur = con.cursor()\n",
    "    cur.execute(\"SELECT * FROM cities\")\n",
    "    \n",
    "    rows = cur.fetchall()\n",
    "    df = pd.DataFrame(rows)\n",
    "    print(df.head())\n",
    "    print(cur.description)"
   ]
  },
  {
   "cell_type": "code",
   "execution_count": 3,
   "metadata": {
    "collapsed": false
   },
   "outputs": [
    {
     "name": "stdout",
     "output_type": "stream",
     "text": [
      "[('New York City', 'NY'), ('Boston', 'MA'), ('Chicago', 'IL'), ('Miami', 'FL'), ('Dallas', 'TX'), ('Seattle', 'WA'), ('Portland', 'OR'), ('San Francisco', 'CA'), ('Los Angeles', 'CA'), ('Washington', 'DC'), ('Houston', 'TX'), ('Washington', 'DC'), ('Houston', 'TX'), ('Las Vegas', 'NV'), ('Atlanta', 'GA')]\n",
      "['name', 'state']\n",
      "             name state\n",
      "0   New York City    NY\n",
      "1          Boston    MA\n",
      "2         Chicago    IL\n",
      "3           Miami    FL\n",
      "4          Dallas    TX\n",
      "5         Seattle    WA\n",
      "6        Portland    OR\n",
      "7   San Francisco    CA\n",
      "8     Los Angeles    CA\n",
      "9      Washington    DC\n",
      "10        Houston    TX\n",
      "11     Washington    DC\n",
      "12        Houston    TX\n",
      "13      Las Vegas    NV\n",
      "14        Atlanta    GA\n"
     ]
    }
   ],
   "source": [
    "# now to get column names\n",
    "\n",
    "import sqlite3 as lite\n",
    "import pandas as pd\n",
    "\n",
    "con = lite.connect('getting_started.db')\n",
    "\n",
    "with con:\n",
    "    \n",
    "    cur = con.cursor()\n",
    "    cur.execute('SELECT * FROM cities')\n",
    "    \n",
    "    rows = cur.fetchall()\n",
    "    cols = [desc[0] for desc in cur.description]\n",
    "    df = pd.DataFrame(rows, columns=cols)\n",
    "    \n",
    "    print(rows)\n",
    "    print(cols) # only 0 and 1 indecies\n",
    "    print(df)"
   ]
  },
  {
   "cell_type": "markdown",
   "metadata": {},
   "source": [
    "### Joining and Filtering Data in SQLite"
   ]
  },
  {
   "cell_type": "code",
   "execution_count": 5,
   "metadata": {
    "collapsed": false
   },
   "outputs": [
    {
     "name": "stdout",
     "output_type": "stream",
     "text": [
      "[('New York City', 'NY', 2013, 'July', 'January', 62), ('Boston', 'MA', 2013, 'July', 'January', 59), ('Chicago', 'IL', 2013, 'July', 'January', 59), ('Miami', 'FL', 2013, 'August', 'January', 84), ('Dallas', 'TX', 2013, 'July', 'January', 77), ('Seattle', 'WA', 2013, 'July', 'January', 61), ('Portland', 'OR', 2013, 'July', 'December', 63), ('San Francisco', 'CA', 2013, 'September', 'December', 64), ('Los Angeles', 'CA', 2013, 'September', 'December', 75), ('Washington', 'DC', 2013, 'July', 'January', 68), ('Houston', 'TX', 2013, 'July', 'January', 91), ('Washington', 'DC', 2013, 'July', 'January', 68), ('Houston', 'TX', 2013, 'July', 'January', 91), ('Las Vegas', 'NV', 2013, 'July', 'December', 95), ('Atlanta', 'GA', 2013, 'July', 'January', 80)]\n"
     ]
    }
   ],
   "source": [
    "import sqlite3 as lite\n",
    "\n",
    "con = lite.connect('getting_started.db')\n",
    "\n",
    "with con:\n",
    "    cur = con.cursor()\n",
    "    cur = con.execute(\"SELECT name, state, year, warm_month, cold_month, average_high FROM cities INNER JOIN weather ON name = city\")\n",
    "    rows = cur.fetchall()\n",
    "    print(rows)"
   ]
  },
  {
   "cell_type": "markdown",
   "metadata": {},
   "source": [
    "### Grouping Data"
   ]
  },
  {
   "cell_type": "code",
   "execution_count": 7,
   "metadata": {
    "collapsed": false
   },
   "outputs": [
    {
     "name": "stdout",
     "output_type": "stream",
     "text": [
      "[('August', 84.0), ('July', 71.5), ('September', 69.5)]\n"
     ]
    }
   ],
   "source": [
    "# GROUP BY\n",
    "\n",
    "con = lite.connect('getting_started.db')\n",
    "\n",
    "with con:\n",
    "    cur = con.cursor()\n",
    "    cur = con.execute(\"SELECT warm_month, AVG(average_high) FROM weather GROUP BY warm_month\")\n",
    "    rows = cur.fetchall()\n",
    "    print(rows)\n",
    "    \n",
    "# Groups the rows by warm month, then takes AVG of all average_highs "
   ]
  },
  {
   "cell_type": "code",
   "execution_count": 8,
   "metadata": {
    "collapsed": false
   },
   "outputs": [
    {
     "name": "stdout",
     "output_type": "stream",
     "text": [
      "[('Los Angeles', 'CA', 69.5), ('Washington', 'DC', 68.0), ('Miami', 'FL', 84.0), ('Atlanta', 'GA', 80.0), ('Chicago', 'IL', 59.0), ('Boston', 'MA', 59.0), ('Las Vegas', 'NV', 95.0), ('New York City', 'NY', 62.0), ('Portland', 'OR', 63.0), ('Houston', 'TX', 84.0), ('Seattle', 'WA', 61.0)]\n"
     ]
    }
   ],
   "source": [
    "# Try It!\n",
    "\n",
    "# Write a SQL statement which finds the mean of the average high \n",
    "# temperatures for all of the cities within a state.\n",
    "\n",
    "# Use combo of INNER JOIN with GROUP BY..\n",
    "\n",
    "con = lite.connect('getting_started.db')\n",
    "with con:\n",
    "    cur = con.cursor()\n",
    "    cur = con.execute(\"SELECT city, state, AVG(average_high) FROM weather INNER JOIN cities ON name = city GROUP BY state\")\n",
    "    rows = cur.fetchall()\n",
    "    print(rows)"
   ]
  },
  {
   "cell_type": "markdown",
   "metadata": {
    "collapsed": true
   },
   "source": [
    "### Ordering Data"
   ]
  },
  {
   "cell_type": "code",
   "execution_count": 4,
   "metadata": {
    "collapsed": false
   },
   "outputs": [
    {
     "name": "stdout",
     "output_type": "stream",
     "text": [
      "[('Las Vegas', 95.0, 'NV'), ('Houston', 91.0, 'TX'), ('Miami', 84.0, 'FL'), ('Atlanta', 80.0, 'GA'), ('Dallas', 77.0, 'TX'), ('Los Angeles', 75.0, 'CA'), ('Washington', 68.0, 'DC'), ('San Francisco', 64.0, 'CA'), ('Portland', 63.0, 'OR'), ('New York City', 62.0, 'NY'), ('Seattle', 61.0, 'WA'), ('Chicago', 59.0, 'IL')]\n"
     ]
    }
   ],
   "source": [
    "# Try It!\n",
    "\n",
    "# Write a query which which finds the mean of the average high \n",
    "# temperatures for all of the cities within a state, \n",
    "# starting with the hottest.\n",
    "\n",
    "import sqlite3 as lite\n",
    "con = lite.connect('getting_started.db')\n",
    "with con:\n",
    "    cur = con.cursor()\n",
    "    cur = con.execute('SELECT city, AVG(average_high), state FROM weather INNER JOIN cities ON name = city GROUP BY average_high ORDER BY average_high DESC')\n",
    "    rows = cur.fetchall()\n",
    "    print(rows)"
   ]
  },
  {
   "cell_type": "code",
   "execution_count": 6,
   "metadata": {
    "collapsed": false
   },
   "outputs": [
    {
     "name": "stdout",
     "output_type": "stream",
     "text": [
      "[('Chicago', 59.0, 'IL'), ('Seattle', 61.0, 'WA'), ('New York City', 62.0, 'NY'), ('Portland', 63.0, 'OR'), ('San Francisco', 64.0, 'CA')]\n"
     ]
    }
   ],
   "source": [
    "# Try It!\n",
    "\n",
    "# Write a query which which finds the mean of the average high \n",
    "# temperatures for all of the cities within a state, starting \n",
    "# with the hottest, and filtering out states with a mean above 65F.\n",
    "\n",
    "import sqlite3 as lite\n",
    "con = lite.connect('getting_started.db')\n",
    "with con:\n",
    "    cur = con.cursor()\n",
    "    cur = con.execute('SELECT city, AVG(average_high), state FROM weather INNER JOIN cities ON name = city GROUP BY average_high HAVING average_high < 65')\n",
    "    rows = cur.fetchall()\n",
    "    print(rows)"
   ]
  }
 ],
 "metadata": {
  "anaconda-cloud": {},
  "kernelspec": {
   "display_name": "Python [Root]",
   "language": "python",
   "name": "Python [Root]"
  },
  "language_info": {
   "codemirror_mode": {
    "name": "ipython",
    "version": 3
   },
   "file_extension": ".py",
   "mimetype": "text/x-python",
   "name": "python",
   "nbconvert_exporter": "python",
   "pygments_lexer": "ipython3",
   "version": "3.5.2"
  }
 },
 "nbformat": 4,
 "nbformat_minor": 0
}
