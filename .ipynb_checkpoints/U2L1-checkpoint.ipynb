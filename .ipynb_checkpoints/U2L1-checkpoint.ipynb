{
 "cells": [
  {
   "cell_type": "markdown",
   "metadata": {},
   "source": [
    "### Probability and Statistics"
   ]
  },
  {
   "cell_type": "code",
   "execution_count": 2,
   "metadata": {
    "collapsed": true
   },
   "outputs": [],
   "source": [
    "import pandas as pd\n",
    "\n",
    "data = '''Region,Alcohol,Tobacco\n",
    "North,6.47,4.03\n",
    "Yorkshire,6.13,3.76\n",
    "Northeast,6.19,3.77\n",
    "East Midlands,4.89,3.34\n",
    "West Midlands,5.63,3.47\n",
    "East Anglia,4.52,2.92\n",
    "Southeast,5.89,3.20\n",
    "Southwest,4.79,2.71\n",
    "Wales,5.27,3.53\n",
    "Scotland,6.08,4.51\n",
    "Northern Ireland,4.02,4.56'''"
   ]
  },
  {
   "cell_type": "code",
   "execution_count": 3,
   "metadata": {
    "collapsed": false
   },
   "outputs": [
    {
     "name": "stdout",
     "output_type": "stream",
     "text": [
      "['Region,Alcohol,Tobacco', 'North,6.47,4.03', 'Yorkshire,6.13,3.76', 'Northeast,6.19,3.77', 'East', 'Midlands,4.89,3.34', 'West', 'Midlands,5.63,3.47', 'East', 'Anglia,4.52,2.92', 'Southeast,5.89,3.20', 'Southwest,4.79,2.71', 'Wales,5.27,3.53', 'Scotland,6.08,4.51', 'Northern', 'Ireland,4.02,4.56']\n"
     ]
    }
   ],
   "source": [
    "data = data.split() # Same as data.split('\\n')\n",
    "print(data)"
   ]
  },
  {
   "cell_type": "code",
   "execution_count": 4,
   "metadata": {
    "collapsed": false
   },
   "outputs": [
    {
     "name": "stdout",
     "output_type": "stream",
     "text": [
      "[['Region', 'Alcohol', 'Tobacco'], ['North', '6.47', '4.03'], ['Yorkshire', '6.13', '3.76'], ['Northeast', '6.19', '3.77'], ['East'], ['Midlands', '4.89', '3.34'], ['West'], ['Midlands', '5.63', '3.47'], ['East'], ['Anglia', '4.52', '2.92'], ['Southeast', '5.89', '3.20'], ['Southwest', '4.79', '2.71'], ['Wales', '5.27', '3.53'], ['Scotland', '6.08', '4.51'], ['Northern'], ['Ireland', '4.02', '4.56']]\n"
     ]
    }
   ],
   "source": [
    "# Use list comprehension to split on commas\n",
    "data = [i.split(',') for i in data]\n",
    "print(data)"
   ]
  },
  {
   "cell_type": "code",
   "execution_count": 5,
   "metadata": {
    "collapsed": false
   },
   "outputs": [
    {
     "name": "stdout",
     "output_type": "stream",
     "text": [
      "['Region', 'Alcohol', 'Tobacco']\n",
      "['North', '6.47', '4.03']\n",
      "<class 'list'>\n"
     ]
    }
   ],
   "source": [
    "print(data[0])\n",
    "print(data[1])\n",
    "print(type(data[1]))"
   ]
  },
  {
   "cell_type": "code",
   "execution_count": 6,
   "metadata": {
    "collapsed": false
   },
   "outputs": [
    {
     "name": "stdout",
     "output_type": "stream",
     "text": [
      "       Region Alcohol Tobacco\n",
      "0       North    6.47    4.03\n",
      "1   Yorkshire    6.13    3.76\n",
      "2   Northeast    6.19    3.77\n",
      "3        East    None    None\n",
      "4    Midlands    4.89    3.34\n",
      "5        West    None    None\n",
      "6    Midlands    5.63    3.47\n",
      "7        East    None    None\n",
      "8      Anglia    4.52    2.92\n",
      "9   Southeast    5.89    3.20\n",
      "10  Southwest    4.79    2.71\n",
      "11      Wales    5.27    3.53\n",
      "12   Scotland    6.08    4.51\n",
      "13   Northern    None    None\n",
      "14    Ireland    4.02    4.56\n"
     ]
    }
   ],
   "source": [
    "column_names = data[0]\n",
    "data_rows = data[1:]\n",
    "df = pd.DataFrame(data_rows, columns=column_names)\n",
    "print(df)"
   ]
  },
  {
   "cell_type": "code",
   "execution_count": 7,
   "metadata": {
    "collapsed": false
   },
   "outputs": [
    {
     "name": "stdout",
     "output_type": "stream",
     "text": [
      "5.443636363636363\n",
      "5.63\n",
      "ModeResult(mode=array([ 4.02]), count=array([1]))\n",
      "3.6181818181818186\n",
      "3.53\n",
      "ModeResult(mode=array([ 2.71]), count=array([1]))\n"
     ]
    }
   ],
   "source": [
    "# Try It!\n",
    "# What are the mean, median and mode of Alcohol and Tobacco \n",
    "# in the dataset provided?\n",
    "\n",
    "from scipy import stats # need method \"mode()\"\n",
    "\n",
    "df['Alcohol'] = df['Alcohol'].astype(float) # math works on floats\n",
    "df['Tobacco'] = df['Tobacco'].astype(float)\n",
    "\n",
    "print(df['Alcohol'].mean())\n",
    "print(df['Alcohol'].median())\n",
    "print(stats.mode(df['Alcohol'])) # if all numbers occur equally, goes with lowest\n",
    "\n",
    "print(df['Tobacco'].mean())\n",
    "print(df['Tobacco'].median())\n",
    "print(stats.mode(df['Tobacco']))"
   ]
  },
  {
   "cell_type": "code",
   "execution_count": 42,
   "metadata": {
    "collapsed": false
   },
   "outputs": [
    {
     "name": "stdout",
     "output_type": "stream",
     "text": [
      "2.45\n",
      "0.6364254545454548\n",
      "0.7977627808725191\n",
      "1.85\n",
      "0.34893636363636354\n",
      "0.5907083575135564\n"
     ]
    }
   ],
   "source": [
    "# Try it!\n",
    "\n",
    "# What are the range, variance, and standard deviation of \n",
    "# Alcohol and Tobacco?\n",
    "\n",
    "#range\n",
    "print(max(df['Alcohol']) - min(df['Alcohol']))\n",
    "\n",
    "#variance\n",
    "print(df['Alcohol'].var())\n",
    "\n",
    "#standard diviation\n",
    "print(df['Alcohol'].std())\n",
    "\n",
    "# Now for Tobacco\n",
    "print(max(df['Tobacco'] - min(df['Tobacco'])))\n",
    "print(df['Tobacco'].var())\n",
    "print(df['Tobacco'].std())"
   ]
  },
  {
   "cell_type": "markdown",
   "metadata": {},
   "source": [
    "### Ranking Data in a Distribution"
   ]
  },
  {
   "cell_type": "code",
   "execution_count": 50,
   "metadata": {
    "collapsed": true
   },
   "outputs": [],
   "source": [
    "#simple ranking: when the data are ordered in some way, the rank \n",
    "            #of a data point is simply its position in that order\n",
    "    \n",
    "#percentile ranking: the percent of data points that are below a data point.\n",
    "\n",
    "#z-score: the number of standard deviations that a data point is from the mean. \n",
    "            #The z-score of a data point is equal to the value x minus the mean, \n",
    "            #divided by the standard deviation. \n",
    "            # z-score = (x - mean) / std"
   ]
  },
  {
   "cell_type": "code",
   "execution_count": 53,
   "metadata": {
    "collapsed": false
   },
   "outputs": [
    {
     "name": "stdout",
     "output_type": "stream",
     "text": [
      "297.0\n"
     ]
    }
   ],
   "source": [
    "# Try It! (find days; z-score = 2.3,  mean = 251, std = 20)\n",
    "\n",
    "# 2.3 = (x - 251) / 20\n",
    "# (2.3 * 20) + 251 = x\n",
    "print(251 + (2.3*20))"
   ]
  },
  {
   "cell_type": "code",
   "execution_count": 10,
   "metadata": {
    "collapsed": false
   },
   "outputs": [
    {
     "name": "stdout",
     "output_type": "stream",
     "text": [
      "0     5.250\n",
      "1     4.945\n",
      "2     4.980\n",
      "3       NaN\n",
      "4     4.115\n",
      "5       NaN\n",
      "6     4.550\n",
      "7       NaN\n",
      "8     3.720\n",
      "9     4.545\n",
      "10    3.750\n",
      "11    4.400\n",
      "12    5.295\n",
      "13      NaN\n",
      "14    4.290\n",
      "dtype: float64\n"
     ]
    }
   ],
   "source": [
    "# Tip: how to calcuate mean, median, etc between 2 columns\n",
    "\n",
    "print(df[['Alcohol', 'Tobacco']].mean(axis=1))"
   ]
  },
  {
   "cell_type": "markdown",
   "metadata": {
    "collapsed": true
   },
   "source": [
    "### Overview of Probability"
   ]
  },
  {
   "cell_type": "code",
   "execution_count": 9,
   "metadata": {
    "collapsed": false
   },
   "outputs": [
    {
     "name": "stdout",
     "output_type": "stream",
     "text": [
      "0.16666666666666666\n"
     ]
    }
   ],
   "source": [
    "# Try it!\n",
    "\n",
    "# P(B|A) = P(A & B) / P(A)\n",
    "pba = ((1/6)*(1/6)) / (1/6)\n",
    "print(pba)"
   ]
  },
  {
   "cell_type": "markdown",
   "metadata": {},
   "source": [
    "### Randomness"
   ]
  },
  {
   "cell_type": "code",
   "execution_count": null,
   "metadata": {
    "collapsed": true
   },
   "outputs": [],
   "source": [
    "# Try it!\n",
    "\n",
    "# What is the space of possbile events S for rolling two dice?\n",
    "# S = {11, 12, 13, 14, 15, 16, 21, 22, 23 ...}\n"
   ]
  }
 ],
 "metadata": {
  "kernelspec": {
   "display_name": "Python [Root]",
   "language": "python",
   "name": "Python [Root]"
  },
  "language_info": {
   "codemirror_mode": {
    "name": "ipython",
    "version": 3
   },
   "file_extension": ".py",
   "mimetype": "text/x-python",
   "name": "python",
   "nbconvert_exporter": "python",
   "pygments_lexer": "ipython3",
   "version": "3.5.2"
  }
 },
 "nbformat": 4,
 "nbformat_minor": 0
}
