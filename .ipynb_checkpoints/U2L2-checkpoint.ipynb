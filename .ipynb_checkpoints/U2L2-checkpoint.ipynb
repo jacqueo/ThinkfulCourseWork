{
 "cells": [
  {
   "cell_type": "markdown",
   "metadata": {},
   "source": [
    "### Univariate Analysis"
   ]
  },
  {
   "cell_type": "code",
   "execution_count": 2,
   "metadata": {
    "collapsed": true
   },
   "outputs": [],
   "source": [
    "# Understanding the statistical properties of a single variable. "
   ]
  },
  {
   "cell_type": "code",
   "execution_count": 18,
   "metadata": {
    "collapsed": false
   },
   "outputs": [
    {
     "name": "stdout",
     "output_type": "stream",
     "text": [
      "Counter({9: 3, 1: 1, 4: 1, 5: 1, 6: 1})\n",
      "The frequency of number 1 is 0.14285714285714285\n",
      "The frequency of number 4 is 0.14285714285714285\n",
      "The frequency of number 5 is 0.14285714285714285\n",
      "The frequency of number 6 is 0.14285714285714285\n",
      "The frequency of number 9 is 0.42857142857142855\n"
     ]
    }
   ],
   "source": [
    "import collections # Standard import package for distribution\n",
    "\n",
    "testlist = [1, 4, 5, 6, 9, 9 ,9]\n",
    "c= collections.Counter(testlist)\n",
    "print(c)\n",
    "\n",
    "# Calucate the number of instances in testlist\n",
    "count_sum = sum(c.values()) # sum(c.values) counts occurances of each value\n",
    "\n",
    "for k,v in c.items():\n",
    "    print('The frequency of number ' + str(k) + ' is ' + str(float(v) / count_sum))"
   ]
  },
  {
   "cell_type": "markdown",
   "metadata": {},
   "source": [
    "### Box Plot"
   ]
  },
  {
   "cell_type": "code",
   "execution_count": 19,
   "metadata": {
    "collapsed": true
   },
   "outputs": [],
   "source": [
    "import matplotlib.pyplot as plt\n",
    "x = [1, 1, 1, 1, 1, 1, 1, 1, 2, 2, 2, 3, 4, 4, 4, 4, 5, 6, 6, 6, 7, 7, 7, 7, 7, 7, 7, 7, 8, 8, 9, 9]\n",
    "plt.boxplot(x)\n",
    "plt.show()"
   ]
  },
  {
   "cell_type": "markdown",
   "metadata": {},
   "source": [
    "### Histograms"
   ]
  },
  {
   "cell_type": "code",
   "execution_count": 21,
   "metadata": {
    "collapsed": true
   },
   "outputs": [],
   "source": [
    "# A histogram is a graphical representation of the frequencies \n",
    "# of a random variable. (Area proportional to frequency of variable.)\n",
    "\n",
    "import matplotlib.pyplot as plt\n",
    "x = [1, 1, 1, 1, 1, 1, 1, 1, 2, 2, 2, 3, 4, 4, 4, 4, 5, 6, 6, 6, 7, 7, 7, 7, 7, 7, 7, 7, 8, 8, 9, 9]\n",
    "plt.hist(x, histtype='bar')\n",
    "plt.show()"
   ]
  },
  {
   "cell_type": "markdown",
   "metadata": {},
   "source": [
    "### QQ-Plot"
   ]
  },
  {
   "cell_type": "code",
   "execution_count": 26,
   "metadata": {
    "collapsed": true
   },
   "outputs": [],
   "source": [
    "import numpy as np\n",
    "import scipy.stats as stats\n",
    "import matplotlib.pyplot as plt\n",
    "\n",
    "plt.figure()\n",
    "test_data = np.random.normal(size=1000)\n",
    "graph1 = stats.probplot(test_data, dist='norm', plot=plt)\n",
    "plt.show() # Generates the first graph, graph1\n",
    "\n",
    "plt.figure()\n",
    "test_data2 = np.random.uniform(size=1000)\n",
    "graph2 = stats.probplot(test_data2, dist='norm', plot=plt)\n",
    "plt.show() # Generates the second graph, graph2"
   ]
  },
  {
   "cell_type": "markdown",
   "metadata": {},
   "source": [
    "### Visualizing Data"
   ]
  },
  {
   "cell_type": "code",
   "execution_count": 4,
   "metadata": {
    "collapsed": false
   },
   "outputs": [
    {
     "name": "stdout",
     "output_type": "stream",
     "text": [
      "        Amount.Requested  Amount.Funded.By.Investors Interest.Rate  \\\n",
      "81174              20000                    20000.00         8.90%   \n",
      "99592              19200                    19200.00        12.12%   \n",
      "80059              35000                    35000.00        21.98%   \n",
      "15825              10000                     9975.00         9.99%   \n",
      "33182              12000                    12000.00        11.71%   \n",
      "62403               6000                     6000.00        15.31%   \n",
      "48808              10000                    10000.00         7.90%   \n",
      "22090              33500                    33450.00        17.14%   \n",
      "76404              14675                    14675.00        14.33%   \n",
      "15867               7000                     7000.00         6.91%   \n",
      "94971               2000                     2000.00        19.72%   \n",
      "36911              10625                    10625.00        14.27%   \n",
      "41200              28000                    27975.00        21.67%   \n",
      "83869              35000                    34950.00         8.90%   \n",
      "53853               9600                     9600.00         7.62%   \n",
      "21399              25000                    24975.00        15.65%   \n",
      "62127              10000                    10000.00        12.12%   \n",
      "23446              14000                    13900.25        10.37%   \n",
      "44987              10000                    10000.00         9.76%   \n",
      "17977               5200                     5175.00         9.99%   \n",
      "86099              22000                    21975.00        21.98%   \n",
      "99483              30000                    30000.00        19.05%   \n",
      "28798               6500                     6500.00        17.99%   \n",
      "24168              17400                    17400.00        11.99%   \n",
      "10356               4000                     4000.00        16.82%   \n",
      "46027               7200                     7200.00         7.90%   \n",
      "2238                8000                     8000.00        14.42%   \n",
      "65278               8000                     8000.00        15.31%   \n",
      "4227                3000                     3000.00         8.59%   \n",
      "50182              14500                    14500.00         7.90%   \n",
      "...                  ...                         ...           ...   \n",
      "84265              20000                    20000.00        22.95%   \n",
      "80231              19000                    19000.00         7.90%   \n",
      "49533              17300                    17250.00        22.45%   \n",
      "102514              7000                      711.54        15.13%   \n",
      "78618               7200                     7200.00        18.75%   \n",
      "86953              10000                    10000.00        14.09%   \n",
      "80129               4000                     3925.00        14.09%   \n",
      "85216              17500                    17500.00         8.90%   \n",
      "38247              20000                    20000.00        11.71%   \n",
      "91245              16200                    16200.00        15.80%   \n",
      "53041              10000                    10000.00         6.03%   \n",
      "63051              27000                    27000.00         6.62%   \n",
      "14446               4500                     4475.00         7.51%   \n",
      "68628              15875                    15875.00        14.33%   \n",
      "98758              15000                    15000.00        10.16%   \n",
      "13070              25000                    24950.00        10.75%   \n",
      "45836               7000                     7000.00        17.27%   \n",
      "52330              15000                    15000.00        19.99%   \n",
      "48243              17000                    17000.00        15.81%   \n",
      "63256              19075                    19075.00        18.75%   \n",
      "42124              10000                    10000.00        11.71%   \n",
      "78043               8475                     8475.00         7.62%   \n",
      "925                 6400                     6350.00        10.08%   \n",
      "74047              30000                    30000.00        23.28%   \n",
      "49957              24000                    23975.00        14.65%   \n",
      "23735              30000                    29950.00        16.77%   \n",
      "65882              16000                    16000.00        14.09%   \n",
      "55610              10000                    10000.00        13.99%   \n",
      "38576               6000                     6000.00        12.42%   \n",
      "3116                9000                     5242.75        13.79%   \n",
      "\n",
      "       Loan.Length        Loan.Purpose Debt.To.Income.Ratio State  \\\n",
      "81174    36 months  debt_consolidation               14.90%    SC   \n",
      "99592    36 months  debt_consolidation               28.36%    TX   \n",
      "80059    60 months  debt_consolidation               23.81%    CA   \n",
      "15825    36 months  debt_consolidation               14.30%    KS   \n",
      "33182    36 months         credit_card               18.78%    NJ   \n",
      "62403    36 months               other               20.05%    CT   \n",
      "48808    36 months  debt_consolidation               26.09%    MA   \n",
      "22090    60 months         credit_card               14.70%    LA   \n",
      "76404    36 months         credit_card               26.92%    CA   \n",
      "15867    36 months         credit_card                7.10%    CA   \n",
      "94971    36 months              moving               10.29%    FL   \n",
      "36911    36 months  debt_consolidation               12.54%    CA   \n",
      "41200    60 months  debt_consolidation               13.07%    CT   \n",
      "83869    36 months  debt_consolidation               20.46%    CT   \n",
      "53853    36 months  debt_consolidation                3.45%    DC   \n",
      "21399    60 months  debt_consolidation               21.99%    CA   \n",
      "62127    36 months  debt_consolidation               17.72%    CA   \n",
      "23446    60 months  debt_consolidation               11.95%    OH   \n",
      "44987    36 months         credit_card                7.13%    FL   \n",
      "17977    60 months  debt_consolidation               10.29%    AL   \n",
      "86099    36 months  debt_consolidation               11.19%    TX   \n",
      "99483    60 months         credit_card               21.25%    FL   \n",
      "28798    60 months                 car               19.63%    FL   \n",
      "24168    36 months         credit_card               12.47%    AZ   \n",
      "10356    60 months            vacation               13.71%    GA   \n",
      "46027    36 months  debt_consolidation               24.82%    TX   \n",
      "2238     36 months  debt_consolidation               24.63%    MA   \n",
      "65278    36 months  debt_consolidation               15.46%    CA   \n",
      "4227     36 months               other                3.72%    MA   \n",
      "50182    36 months  debt_consolidation                4.85%    GA   \n",
      "...            ...                 ...                  ...   ...   \n",
      "84265    60 months  debt_consolidation                7.10%    NJ   \n",
      "80231    36 months  debt_consolidation                9.76%    RI   \n",
      "49533    60 months             wedding                3.58%    PA   \n",
      "102514   36 months      major_purchase               18.91%    CO   \n",
      "78618    36 months  debt_consolidation               16.21%    MI   \n",
      "86953    36 months      major_purchase                9.71%    CO   \n",
      "80129    36 months         credit_card               12.27%    FL   \n",
      "85216    36 months  debt_consolidation               10.94%    UT   \n",
      "38247    36 months         credit_card                9.58%    SD   \n",
      "91245    60 months  debt_consolidation                7.92%    PA   \n",
      "53041    36 months      small_business               13.03%    FL   \n",
      "63051    36 months  debt_consolidation               12.21%    OH   \n",
      "14446    36 months      small_business               20.27%    VA   \n",
      "68628    36 months      small_business               17.44%    MD   \n",
      "98758    36 months         credit_card               28.28%    OH   \n",
      "13070    36 months  debt_consolidation               20.48%    OR   \n",
      "45836    36 months               other               18.38%    NY   \n",
      "52330    36 months             wedding               18.05%    CA   \n",
      "48243    36 months  debt_consolidation               17.01%    CO   \n",
      "63256    36 months  debt_consolidation               15.23%    NY   \n",
      "42124    36 months  debt_consolidation                8.40%    CA   \n",
      "78043    36 months  debt_consolidation               15.88%    CA   \n",
      "925      36 months  debt_consolidation                8.11%    NJ   \n",
      "74047    60 months               other               12.10%    IL   \n",
      "49957    36 months  debt_consolidation               15.29%    WA   \n",
      "23735    60 months  debt_consolidation               19.23%    NY   \n",
      "65882    60 months    home_improvement               21.54%    MD   \n",
      "55610    36 months  debt_consolidation                4.89%    PA   \n",
      "38576    36 months      major_purchase               16.66%    NJ   \n",
      "3116     36 months  debt_consolidation                6.76%    NY   \n",
      "\n",
      "       Home.Ownership  Monthly.Income FICO.Range  Open.CREDIT.Lines  \\\n",
      "81174        MORTGAGE         6541.67    735-739               14.0   \n",
      "99592        MORTGAGE         4583.33    715-719               12.0   \n",
      "80059        MORTGAGE        11500.00    690-694               14.0   \n",
      "15825        MORTGAGE         3833.33    695-699               10.0   \n",
      "33182            RENT         3195.00    695-699               11.0   \n",
      "62403             OWN         4891.67    670-674               17.0   \n",
      "48808            RENT         2916.67    720-724               10.0   \n",
      "22090        MORTGAGE        13863.42    705-709               12.0   \n",
      "76404            RENT         3150.00    685-689                9.0   \n",
      "15867            RENT         5000.00    715-719                8.0   \n",
      "94971            RENT         3575.00    670-674               10.0   \n",
      "36911        MORTGAGE         4250.00    665-669               14.0   \n",
      "41200        MORTGAGE        14166.67    670-674               12.0   \n",
      "83869            RENT         9166.67    735-739               19.0   \n",
      "53853            RENT        11250.00    725-729               13.0   \n",
      "21399            RENT         5416.67    730-734                6.0   \n",
      "62127            RENT         9000.00    695-699               18.0   \n",
      "23446            RENT         4333.33    740-744                6.0   \n",
      "44987            RENT         2733.33    730-734                7.0   \n",
      "17977        MORTGAGE         3750.00    760-764               10.0   \n",
      "86099        MORTGAGE         6666.67    665-669                9.0   \n",
      "99483        MORTGAGE         6250.00    695-699               12.0   \n",
      "28798            RENT         4100.00    665-669               11.0   \n",
      "24168            RENT         6833.33    695-699                7.0   \n",
      "10356        MORTGAGE         4500.00    670-674                5.0   \n",
      "46027            RENT         5416.67    705-709                8.0   \n",
      "2238             RENT         2964.17    675-679                9.0   \n",
      "65278        MORTGAGE         2916.67    675-679               13.0   \n",
      "4227         MORTGAGE         4167.00    765-769                4.0   \n",
      "50182        MORTGAGE         3958.33    760-764                4.0   \n",
      "...               ...             ...        ...                ...   \n",
      "84265            RENT         6750.00    665-669                6.0   \n",
      "80231        MORTGAGE         5166.67    770-774               18.0   \n",
      "49533        MORTGAGE         5500.00    685-689               11.0   \n",
      "102514       MORTGAGE         3833.00    650-654               13.0   \n",
      "78618            RENT         8333.33    660-664                8.0   \n",
      "86953            RENT         4583.33    675-679                6.0   \n",
      "80129        MORTGAGE         8583.33    675-679                9.0   \n",
      "85216        MORTGAGE        25000.00    730-734                9.0   \n",
      "38247        MORTGAGE         5416.67    725-729               12.0   \n",
      "91245        MORTGAGE         4833.33    680-684               12.0   \n",
      "53041            RENT         5000.00    760-764                8.0   \n",
      "63051        MORTGAGE         9250.00    810-814               12.0   \n",
      "14446        MORTGAGE         7075.50    720-724               15.0   \n",
      "68628        MORTGAGE         3416.67    675-679               11.0   \n",
      "98758        MORTGAGE         6666.67    690-694               15.0   \n",
      "13070        MORTGAGE         7083.33    765-769               10.0   \n",
      "45836             OWN         2464.37    665-669                9.0   \n",
      "52330            RENT         8000.00    660-664                6.0   \n",
      "48243            RENT         3833.33    685-689                6.0   \n",
      "63256            RENT         5166.67    670-674               17.0   \n",
      "42124            RENT         4500.00    710-714                8.0   \n",
      "78043            RENT         3983.33    720-724                9.0   \n",
      "925          MORTGAGE         5166.67    710-714                5.0   \n",
      "74047        MORTGAGE         7083.33    675-679               16.0   \n",
      "49957        MORTGAGE         6666.67    685-689               13.0   \n",
      "23735        MORTGAGE         9250.00    705-709               15.0   \n",
      "65882             OWN         8903.25    740-744               18.0   \n",
      "55610        MORTGAGE         2166.67    680-684                4.0   \n",
      "38576            RENT         3500.00    675-679                8.0   \n",
      "3116             RENT         3875.00    670-674                7.0   \n",
      "\n",
      "        Revolving.CREDIT.Balance  Inquiries.in.the.Last.6.Months  \\\n",
      "81174                    14272.0                             2.0   \n",
      "99592                    11140.0                             1.0   \n",
      "80059                    21977.0                             1.0   \n",
      "15825                     9346.0                             0.0   \n",
      "33182                    14469.0                             0.0   \n",
      "62403                    10391.0                             2.0   \n",
      "48808                    15957.0                             0.0   \n",
      "22090                    27874.0                             0.0   \n",
      "76404                     7246.0                             1.0   \n",
      "15867                     7612.0                             0.0   \n",
      "94971                    12036.0                             0.0   \n",
      "36911                    10767.0                             0.0   \n",
      "41200                    10311.0                             0.0   \n",
      "83869                    21536.0                             0.0   \n",
      "53853                     4606.0                             0.0   \n",
      "21399                    13929.0                             0.0   \n",
      "62127                    20317.0                             0.0   \n",
      "23446                     7419.0                             0.0   \n",
      "44987                     6112.0                             2.0   \n",
      "17977                    16094.0                             0.0   \n",
      "86099                    23124.0                             0.0   \n",
      "99483                    34927.0                             0.0   \n",
      "28798                    11697.0                             1.0   \n",
      "24168                    26587.0                             0.0   \n",
      "10356                    20804.0                             0.0   \n",
      "46027                    12017.0                             0.0   \n",
      "2238                      8928.0                             2.0   \n",
      "65278                     7152.0                             1.0   \n",
      "4227                      7074.0                             0.0   \n",
      "50182                     9598.0                             0.0   \n",
      "...                          ...                             ...   \n",
      "84265                    16104.0                             1.0   \n",
      "80231                    43617.0                             2.0   \n",
      "49533                     2306.0                             3.0   \n",
      "102514                   12634.0                             0.0   \n",
      "78618                    28916.0                             0.0   \n",
      "86953                     3859.0                             0.0   \n",
      "80129                    36943.0                             1.0   \n",
      "85216                    34545.0                             0.0   \n",
      "38247                    18267.0                             1.0   \n",
      "91245                    12313.0                             2.0   \n",
      "53041                     3952.0                             0.0   \n",
      "63051                     4211.0                             0.0   \n",
      "14446                    68618.0                             2.0   \n",
      "68628                    15891.0                             0.0   \n",
      "98758                    14880.0                             0.0   \n",
      "13070                    25429.0                             0.0   \n",
      "45836                     7089.0                             0.0   \n",
      "52330                    45976.0                             1.0   \n",
      "48243                    15484.0                             1.0   \n",
      "63256                    13749.0                             3.0   \n",
      "42124                     8404.0                             1.0   \n",
      "78043                     6882.0                             0.0   \n",
      "925                       5815.0                             2.0   \n",
      "74047                    17969.0                             1.0   \n",
      "49957                    17521.0                             0.0   \n",
      "23735                    45880.0                             1.0   \n",
      "65882                    18898.0                             1.0   \n",
      "55610                     4544.0                             0.0   \n",
      "38576                     7753.0                             0.0   \n",
      "3116                      7589.0                             0.0   \n",
      "\n",
      "       Employment.Length  \n",
      "81174           < 1 year  \n",
      "99592            2 years  \n",
      "80059            2 years  \n",
      "15825            5 years  \n",
      "33182            9 years  \n",
      "62403            3 years  \n",
      "48808          10+ years  \n",
      "22090          10+ years  \n",
      "76404            8 years  \n",
      "15867            3 years  \n",
      "94971            6 years  \n",
      "36911           < 1 year  \n",
      "41200             1 year  \n",
      "83869             1 year  \n",
      "53853           < 1 year  \n",
      "21399            9 years  \n",
      "62127            7 years  \n",
      "23446            9 years  \n",
      "44987            3 years  \n",
      "17977           < 1 year  \n",
      "86099          10+ years  \n",
      "99483            6 years  \n",
      "28798            2 years  \n",
      "24168            7 years  \n",
      "10356            3 years  \n",
      "46027            7 years  \n",
      "2238             6 years  \n",
      "65278            5 years  \n",
      "4227             5 years  \n",
      "50182            4 years  \n",
      "...                  ...  \n",
      "84265            7 years  \n",
      "80231          10+ years  \n",
      "49533            4 years  \n",
      "102514           2 years  \n",
      "78618          10+ years  \n",
      "86953           < 1 year  \n",
      "80129          10+ years  \n",
      "85216            6 years  \n",
      "38247            4 years  \n",
      "91245          10+ years  \n",
      "53041            2 years  \n",
      "63051            5 years  \n",
      "14446          10+ years  \n",
      "68628            2 years  \n",
      "98758          10+ years  \n",
      "13070            6 years  \n",
      "45836            3 years  \n",
      "52330            2 years  \n",
      "48243            6 years  \n",
      "63256          10+ years  \n",
      "42124            3 years  \n",
      "78043                n/a  \n",
      "925            10+ years  \n",
      "74047          10+ years  \n",
      "49957            5 years  \n",
      "23735            8 years  \n",
      "65882          10+ years  \n",
      "55610          10+ years  \n",
      "38576            5 years  \n",
      "3116           10+ years  \n",
      "\n",
      "[2500 rows x 14 columns]\n"
     ]
    }
   ],
   "source": [
    "# Working with Lending Club Data\n",
    "\n",
    "import matplotlib.pyplot as plt\n",
    "import pandas as pd\n",
    "\n",
    "loansData = pd.read_csv('https://github.com/Thinkful-Ed/curric-data-001-data-sets/raw/master/loans/loansData.csv')\n",
    "print(loansData)"
   ]
  },
  {
   "cell_type": "code",
   "execution_count": 5,
   "metadata": {
    "collapsed": true
   },
   "outputs": [],
   "source": [
    "# Remove NA values\n",
    "loansData.dropna(inplace = True)"
   ]
  },
  {
   "cell_type": "code",
   "execution_count": 16,
   "metadata": {
    "collapsed": false
   },
   "outputs": [
    {
     "name": "stderr",
     "output_type": "stream",
     "text": [
      "/Users/Jake/anaconda/lib/python3.5/site-packages/ipykernel/__main__.py:2: FutureWarning: \n",
      "The default value for 'return_type' will change to 'axes' in a future release.\n",
      " To use the future behavior now, set return_type='axes'.\n",
      " To keep the previous behavior and silence this warning, set return_type='dict'.\n",
      "  from ipykernel import kernelapp as app\n"
     ]
    }
   ],
   "source": [
    "# Boxplot on one designated column\n",
    "loansData.boxplot(column='Amount.Funded.By.Investors')\n",
    "plt.show()"
   ]
  },
  {
   "cell_type": "code",
   "execution_count": 17,
   "metadata": {
    "collapsed": true
   },
   "outputs": [],
   "source": [
    "# Histogram\n",
    "loansData.hist(column='Amount.Funded.By.Investors', histtype='bar')\n",
    "plt.show()"
   ]
  },
  {
   "cell_type": "code",
   "execution_count": 18,
   "metadata": {
    "collapsed": false
   },
   "outputs": [],
   "source": [
    "# QQ-plot\n",
    "import scipy.stats as stats\n",
    "plt.figure()\n",
    "graph = stats.probplot(loansData['Amount.Funded.By.Investors'], dist=\"norm\", plot=plt)\n",
    "plt.show()"
   ]
  },
  {
   "cell_type": "markdown",
   "metadata": {},
   "source": [
    "### Testing Data (Goodness of Fit and Signed Rank)"
   ]
  },
  {
   "cell_type": "code",
   "execution_count": null,
   "metadata": {
    "collapsed": false
   },
   "outputs": [],
   "source": [
    "# Goodness of Fit: The Chi-Square Test. Useful to understand variations in the frequency of categorical data.\n",
    "\n",
    "from scipy import stats\n",
    "import collections\n",
    "\n",
    "# Reload and clean LC data\n",
    "loansData = pd.read_csv('https://github.com/Thinkful-Ed/curric-data-001-data-sets/raw/master/loans/loansData.csv')\n",
    "loansData.dropna(inplace=True)\n",
    "\n",
    "freq = collections.Counter(loansData['Open.CREDIT.Lines'])\n",
    "print(freq) # len(freq) gives you total number of dict elements"
   ]
  },
  {
   "cell_type": "code",
   "execution_count": 35,
   "metadata": {
    "collapsed": true
   },
   "outputs": [],
   "source": [
    "# Check it out visually, first\n",
    "plt.figure()\n",
    "plt.bar(freq.keys(), freq.values(), width=1)\n",
    "plt.show()"
   ]
  },
  {
   "cell_type": "code",
   "execution_count": 67,
   "metadata": {
    "collapsed": false
   },
   "outputs": [
    {
     "ename": "IndexError",
     "evalue": "tuple index out of range",
     "output_type": "error",
     "traceback": [
      "\u001b[0;31m---------------------------------------------------------------------------\u001b[0m",
      "\u001b[0;31mIndexError\u001b[0m                                Traceback (most recent call last)",
      "\u001b[0;32m<ipython-input-67-c9bc167c1190>\u001b[0m in \u001b[0;36m<module>\u001b[0;34m()\u001b[0m\n\u001b[1;32m      2\u001b[0m \u001b[0;32mimport\u001b[0m \u001b[0mscipy\u001b[0m\u001b[0;34m.\u001b[0m\u001b[0mstats\u001b[0m \u001b[0;32mas\u001b[0m \u001b[0mstats\u001b[0m\u001b[0;34m\u001b[0m\u001b[0m\n\u001b[1;32m      3\u001b[0m \u001b[0;34m\u001b[0m\u001b[0m\n\u001b[0;32m----> 4\u001b[0;31m \u001b[0mchi\u001b[0m \u001b[0;34m=\u001b[0m \u001b[0mstats\u001b[0m\u001b[0;34m.\u001b[0m\u001b[0mchisquare\u001b[0m\u001b[0;34m(\u001b[0m\u001b[0mfreq\u001b[0m\u001b[0;34m.\u001b[0m\u001b[0mvalues\u001b[0m\u001b[0;34m(\u001b[0m\u001b[0;34m)\u001b[0m\u001b[0;34m)\u001b[0m\u001b[0;34m\u001b[0m\u001b[0m\n\u001b[0m\u001b[1;32m      5\u001b[0m \u001b[0mprint\u001b[0m\u001b[0;34m(\u001b[0m\u001b[0mchi\u001b[0m\u001b[0;34m)\u001b[0m\u001b[0;34m\u001b[0m\u001b[0m\n\u001b[1;32m      6\u001b[0m \u001b[0mprint\u001b[0m\u001b[0;34m(\u001b[0m\u001b[0mp\u001b[0m\u001b[0;34m)\u001b[0m\u001b[0;34m\u001b[0m\u001b[0m\n",
      "\u001b[0;32m/Users/Jake/anaconda/lib/python3.5/site-packages/scipy/stats/stats.py\u001b[0m in \u001b[0;36mchisquare\u001b[0;34m(f_obs, f_exp, ddof, axis)\u001b[0m\n\u001b[1;32m   4485\u001b[0m     \"\"\"\n\u001b[1;32m   4486\u001b[0m     return power_divergence(f_obs, f_exp=f_exp, ddof=ddof, axis=axis,\n\u001b[0;32m-> 4487\u001b[0;31m                             lambda_=\"pearson\")\n\u001b[0m\u001b[1;32m   4488\u001b[0m \u001b[0;34m\u001b[0m\u001b[0m\n\u001b[1;32m   4489\u001b[0m \u001b[0mKs_2sampResult\u001b[0m \u001b[0;34m=\u001b[0m \u001b[0mnamedtuple\u001b[0m\u001b[0;34m(\u001b[0m\u001b[0;34m'Ks_2sampResult'\u001b[0m\u001b[0;34m,\u001b[0m \u001b[0;34m(\u001b[0m\u001b[0;34m'statistic'\u001b[0m\u001b[0;34m,\u001b[0m \u001b[0;34m'pvalue'\u001b[0m\u001b[0;34m)\u001b[0m\u001b[0;34m)\u001b[0m\u001b[0;34m\u001b[0m\u001b[0m\n",
      "\u001b[0;32m/Users/Jake/anaconda/lib/python3.5/site-packages/scipy/stats/stats.py\u001b[0m in \u001b[0;36mpower_divergence\u001b[0;34m(f_obs, f_exp, ddof, axis, lambda_)\u001b[0m\n\u001b[1;32m   4341\u001b[0m         \u001b[0;31m# is handled without spurious warnings.\u001b[0m\u001b[0;34m\u001b[0m\u001b[0;34m\u001b[0m\u001b[0m\n\u001b[1;32m   4342\u001b[0m         \u001b[0;32mwith\u001b[0m \u001b[0mnp\u001b[0m\u001b[0;34m.\u001b[0m\u001b[0merrstate\u001b[0m\u001b[0;34m(\u001b[0m\u001b[0minvalid\u001b[0m\u001b[0;34m=\u001b[0m\u001b[0;34m'ignore'\u001b[0m\u001b[0;34m)\u001b[0m\u001b[0;34m:\u001b[0m\u001b[0;34m\u001b[0m\u001b[0m\n\u001b[0;32m-> 4343\u001b[0;31m             \u001b[0mf_exp\u001b[0m \u001b[0;34m=\u001b[0m \u001b[0mnp\u001b[0m\u001b[0;34m.\u001b[0m\u001b[0matleast_1d\u001b[0m\u001b[0;34m(\u001b[0m\u001b[0mf_obs\u001b[0m\u001b[0;34m.\u001b[0m\u001b[0mmean\u001b[0m\u001b[0;34m(\u001b[0m\u001b[0maxis\u001b[0m\u001b[0;34m=\u001b[0m\u001b[0maxis\u001b[0m\u001b[0;34m)\u001b[0m\u001b[0;34m)\u001b[0m\u001b[0;34m\u001b[0m\u001b[0m\n\u001b[0m\u001b[1;32m   4344\u001b[0m         \u001b[0;32mif\u001b[0m \u001b[0maxis\u001b[0m \u001b[0;32mis\u001b[0m \u001b[0;32mnot\u001b[0m \u001b[0;32mNone\u001b[0m\u001b[0;34m:\u001b[0m\u001b[0;34m\u001b[0m\u001b[0m\n\u001b[1;32m   4345\u001b[0m             \u001b[0mreduced_shape\u001b[0m \u001b[0;34m=\u001b[0m \u001b[0mlist\u001b[0m\u001b[0;34m(\u001b[0m\u001b[0mf_obs\u001b[0m\u001b[0;34m.\u001b[0m\u001b[0mshape\u001b[0m\u001b[0;34m)\u001b[0m\u001b[0;34m\u001b[0m\u001b[0m\n",
      "\u001b[0;32m/Users/Jake/anaconda/lib/python3.5/site-packages/numpy/core/_methods.py\u001b[0m in \u001b[0;36m_mean\u001b[0;34m(a, axis, dtype, out, keepdims)\u001b[0m\n\u001b[1;32m     54\u001b[0m     \u001b[0marr\u001b[0m \u001b[0;34m=\u001b[0m \u001b[0masanyarray\u001b[0m\u001b[0;34m(\u001b[0m\u001b[0ma\u001b[0m\u001b[0;34m)\u001b[0m\u001b[0;34m\u001b[0m\u001b[0m\n\u001b[1;32m     55\u001b[0m \u001b[0;34m\u001b[0m\u001b[0m\n\u001b[0;32m---> 56\u001b[0;31m     \u001b[0mrcount\u001b[0m \u001b[0;34m=\u001b[0m \u001b[0m_count_reduce_items\u001b[0m\u001b[0;34m(\u001b[0m\u001b[0marr\u001b[0m\u001b[0;34m,\u001b[0m \u001b[0maxis\u001b[0m\u001b[0;34m)\u001b[0m\u001b[0;34m\u001b[0m\u001b[0m\n\u001b[0m\u001b[1;32m     57\u001b[0m     \u001b[0;31m# Make this warning show up first\u001b[0m\u001b[0;34m\u001b[0m\u001b[0;34m\u001b[0m\u001b[0m\n\u001b[1;32m     58\u001b[0m     \u001b[0;32mif\u001b[0m \u001b[0mrcount\u001b[0m \u001b[0;34m==\u001b[0m \u001b[0;36m0\u001b[0m\u001b[0;34m:\u001b[0m\u001b[0;34m\u001b[0m\u001b[0m\n",
      "\u001b[0;32m/Users/Jake/anaconda/lib/python3.5/site-packages/numpy/core/_methods.py\u001b[0m in \u001b[0;36m_count_reduce_items\u001b[0;34m(arr, axis)\u001b[0m\n\u001b[1;32m     48\u001b[0m     \u001b[0mitems\u001b[0m \u001b[0;34m=\u001b[0m \u001b[0;36m1\u001b[0m\u001b[0;34m\u001b[0m\u001b[0m\n\u001b[1;32m     49\u001b[0m     \u001b[0;32mfor\u001b[0m \u001b[0max\u001b[0m \u001b[0;32min\u001b[0m \u001b[0maxis\u001b[0m\u001b[0;34m:\u001b[0m\u001b[0;34m\u001b[0m\u001b[0m\n\u001b[0;32m---> 50\u001b[0;31m         \u001b[0mitems\u001b[0m \u001b[0;34m*=\u001b[0m \u001b[0marr\u001b[0m\u001b[0;34m.\u001b[0m\u001b[0mshape\u001b[0m\u001b[0;34m[\u001b[0m\u001b[0max\u001b[0m\u001b[0;34m]\u001b[0m\u001b[0;34m\u001b[0m\u001b[0m\n\u001b[0m\u001b[1;32m     51\u001b[0m     \u001b[0;32mreturn\u001b[0m \u001b[0mitems\u001b[0m\u001b[0;34m\u001b[0m\u001b[0m\n\u001b[1;32m     52\u001b[0m \u001b[0;34m\u001b[0m\u001b[0m\n",
      "\u001b[0;31mIndexError\u001b[0m: tuple index out of range"
     ]
    }
   ],
   "source": [
    "# Confirm and clarify with stats, chi-square test\n",
    "import scipy.stats as stats\n",
    "\n",
    "chi = stats.chisquare(freq.values())\n",
    "print(chi)\n",
    "print(p)"
   ]
  },
  {
   "cell_type": "code",
   "execution_count": null,
   "metadata": {
    "collapsed": false
   },
   "outputs": [],
   "source": [
    "freq # keys = observations; values =  counts of observations"
   ]
  },
  {
   "cell_type": "code",
   "execution_count": null,
   "metadata": {
    "collapsed": false
   },
   "outputs": [],
   "source": [
    "freq.values()"
   ]
  },
  {
   "cell_type": "code",
   "execution_count": 97,
   "metadata": {
    "collapsed": false
   },
   "outputs": [],
   "source": [
    "# sum ( (observed - expected)^2 / expected)\n",
    "# observed = ? \n",
    "# expected = ?"
   ]
  }
 ],
 "metadata": {
  "anaconda-cloud": {},
  "kernelspec": {
   "display_name": "Python [Root]",
   "language": "python",
   "name": "Python [Root]"
  },
  "language_info": {
   "codemirror_mode": {
    "name": "ipython",
    "version": 3
   },
   "file_extension": ".py",
   "mimetype": "text/x-python",
   "name": "python",
   "nbconvert_exporter": "python",
   "pygments_lexer": "ipython3",
   "version": "3.5.2"
  }
 },
 "nbformat": 4,
 "nbformat_minor": 0
}
